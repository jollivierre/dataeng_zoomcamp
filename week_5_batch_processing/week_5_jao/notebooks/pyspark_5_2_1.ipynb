{
 "cells": [
  {
   "cell_type": "code",
   "execution_count": 1,
   "id": "d7b0fd44",
   "metadata": {},
   "outputs": [],
   "source": [
    "import pyspark"
   ]
  },
  {
   "cell_type": "code",
   "execution_count": 2,
   "id": "c3115378",
   "metadata": {},
   "outputs": [
    {
     "data": {
      "text/plain": [
       "'3.3.2'"
      ]
     },
     "execution_count": 2,
     "metadata": {},
     "output_type": "execute_result"
    }
   ],
   "source": [
    "pyspark.__version__"
   ]
  },
  {
   "cell_type": "code",
   "execution_count": 3,
   "id": "3133fc8f",
   "metadata": {},
   "outputs": [
    {
     "data": {
      "text/plain": [
       "'/home/jasono/spark/spark-3.3.2-bin-hadoop3/python/pyspark/__init__.py'"
      ]
     },
     "execution_count": 3,
     "metadata": {},
     "output_type": "execute_result"
    }
   ],
   "source": [
    "pyspark.__file__"
   ]
  },
  {
   "cell_type": "code",
   "execution_count": 9,
   "id": "44a7c6ae",
   "metadata": {},
   "outputs": [],
   "source": [
    "from pyspark.sql import SparkSession"
   ]
  },
  {
   "cell_type": "code",
   "execution_count": 10,
   "id": "c22ae9b0",
   "metadata": {},
   "outputs": [
    {
     "name": "stderr",
     "output_type": "stream",
     "text": [
      "Setting default log level to \"WARN\".\n",
      "To adjust logging level use sc.setLogLevel(newLevel). For SparkR, use setLogLevel(newLevel).\n"
     ]
    },
    {
     "name": "stdout",
     "output_type": "stream",
     "text": [
      "23/03/04 14:50:47 WARN NativeCodeLoader: Unable to load native-hadoop library for your platform... using builtin-java classes where applicable\n"
     ]
    }
   ],
   "source": [
    "spark = SparkSession.builder \\\n",
    "    .master(\"local[*]\") \\\n",
    "    .appName('test') \\\n",
    "    .getOrCreate()"
   ]
  },
  {
   "cell_type": "code",
   "execution_count": 3,
   "id": "8d5aae0f",
   "metadata": {},
   "outputs": [
    {
     "name": "stdout",
     "output_type": "stream",
     "text": [
      "--2023-03-04 14:47:09--  https://s3.amazonaws.com/nyc-tlc/misc/taxi+_zone_lookup.csv\n",
      "Resolving s3.amazonaws.com (s3.amazonaws.com)... 52.217.84.142, 54.231.138.216, 52.217.198.112, ...\n",
      "Connecting to s3.amazonaws.com (s3.amazonaws.com)|52.217.84.142|:443... connected.\n",
      "HTTP request sent, awaiting response... 200 OK\n",
      "Length: 12322 (12K) [application/octet-stream]\n",
      "Saving to: ‘taxi+_zone_lookup.csv’\n",
      "\n",
      "taxi+_zone_lookup.c 100%[===================>]  12.03K  --.-KB/s    in 0s      \n",
      "\n",
      "2023-03-04 14:47:10 (168 MB/s) - ‘taxi+_zone_lookup.csv’ saved [12322/12322]\n",
      "\n"
     ]
    }
   ],
   "source": [
    "!wget https://s3.amazonaws.com/nyc-tlc/misc/taxi+_zone_lookup.csv"
   ]
  },
  {
   "cell_type": "code",
   "execution_count": 4,
   "id": "f372e247",
   "metadata": {},
   "outputs": [
    {
     "name": "stdout",
     "output_type": "stream",
     "text": [
      "\"LocationID\",\"Borough\",\"Zone\",\"service_zone\"\r",
      "\r\n",
      "1,\"EWR\",\"Newark Airport\",\"EWR\"\r",
      "\r\n",
      "2,\"Queens\",\"Jamaica Bay\",\"Boro Zone\"\r",
      "\r\n",
      "3,\"Bronx\",\"Allerton/Pelham Gardens\",\"Boro Zone\"\r",
      "\r\n",
      "4,\"Manhattan\",\"Alphabet City\",\"Yellow Zone\"\r",
      "\r\n",
      "5,\"Staten Island\",\"Arden Heights\",\"Boro Zone\"\r",
      "\r\n",
      "6,\"Staten Island\",\"Arrochar/Fort Wadsworth\",\"Boro Zone\"\r",
      "\r\n",
      "7,\"Queens\",\"Astoria\",\"Boro Zone\"\r",
      "\r\n",
      "8,\"Queens\",\"Astoria Park\",\"Boro Zone\"\r",
      "\r\n",
      "9,\"Queens\",\"Auburndale\",\"Boro Zone\"\r",
      "\r\n",
      "10,\"Queens\",\"Baisley Park\",\"Boro Zone\"\r",
      "\r\n",
      "11,\"Brooklyn\",\"Bath Beach\",\"Boro Zone\"\r",
      "\r\n",
      "12,\"Manhattan\",\"Battery Park\",\"Yellow Zone\"\r",
      "\r\n",
      "13,\"Manhattan\",\"Battery Park City\",\"Yellow Zone\"\r",
      "\r\n",
      "14,\"Brooklyn\",\"Bay Ridge\",\"Boro Zone\"\r",
      "\r\n",
      "15,\"Queens\",\"Bay Terrace/Fort Totten\",\"Boro Zone\"\r",
      "\r\n",
      "16,\"Queens\",\"Bayside\",\"Boro Zone\"\r",
      "\r\n",
      "17,\"Brooklyn\",\"Bedford\",\"Boro Zone\"\r",
      "\r\n",
      "18,\"Bronx\",\"Bedford Park\",\"Boro Zone\"\r",
      "\r\n",
      "19,\"Queens\",\"Bellerose\",\"Boro Zone\"\r",
      "\r\n"
     ]
    }
   ],
   "source": [
    "!head -20 taxi+_zone_lookup.csv"
   ]
  },
  {
   "cell_type": "code",
   "execution_count": 15,
   "id": "6d244f1e",
   "metadata": {},
   "outputs": [],
   "source": [
    "# use spark to read file into dataframe\n",
    "df = spark.read.csv('taxi+_zone_lookup.csv')"
   ]
  },
  {
   "cell_type": "code",
   "execution_count": 17,
   "id": "0a98b93f",
   "metadata": {},
   "outputs": [],
   "source": [
    "# alternative to read file which loads headers\n",
    "df = spark.read \\\n",
    "    .option(\"header\", \"true\") \\\n",
    "    .csv('taxi+_zone_lookup.csv')"
   ]
  },
  {
   "cell_type": "code",
   "execution_count": 20,
   "id": "2adcaac3",
   "metadata": {},
   "outputs": [
    {
     "name": "stdout",
     "output_type": "stream",
     "text": [
      "+----------+-------------+--------------------+------------+\n",
      "|LocationID|      Borough|                Zone|service_zone|\n",
      "+----------+-------------+--------------------+------------+\n",
      "|         1|          EWR|      Newark Airport|         EWR|\n",
      "|         2|       Queens|         Jamaica Bay|   Boro Zone|\n",
      "|         3|        Bronx|Allerton/Pelham G...|   Boro Zone|\n",
      "|         4|    Manhattan|       Alphabet City| Yellow Zone|\n",
      "|         5|Staten Island|       Arden Heights|   Boro Zone|\n",
      "|         6|Staten Island|Arrochar/Fort Wad...|   Boro Zone|\n",
      "|         7|       Queens|             Astoria|   Boro Zone|\n",
      "|         8|       Queens|        Astoria Park|   Boro Zone|\n",
      "|         9|       Queens|          Auburndale|   Boro Zone|\n",
      "|        10|       Queens|        Baisley Park|   Boro Zone|\n",
      "|        11|     Brooklyn|          Bath Beach|   Boro Zone|\n",
      "|        12|    Manhattan|        Battery Park| Yellow Zone|\n",
      "|        13|    Manhattan|   Battery Park City| Yellow Zone|\n",
      "|        14|     Brooklyn|           Bay Ridge|   Boro Zone|\n",
      "|        15|       Queens|Bay Terrace/Fort ...|   Boro Zone|\n",
      "|        16|       Queens|             Bayside|   Boro Zone|\n",
      "|        17|     Brooklyn|             Bedford|   Boro Zone|\n",
      "|        18|        Bronx|        Bedford Park|   Boro Zone|\n",
      "|        19|       Queens|           Bellerose|   Boro Zone|\n",
      "|        20|        Bronx|             Belmont|   Boro Zone|\n",
      "+----------+-------------+--------------------+------------+\n",
      "only showing top 20 rows\n",
      "\n"
     ]
    }
   ],
   "source": [
    "df.show()"
   ]
  },
  {
   "cell_type": "code",
   "execution_count": 21,
   "id": "e9a73ad5",
   "metadata": {},
   "outputs": [],
   "source": [
    "# test writing file - this created a folder called zones with two files - parquet file and \"success\" file\n",
    "df.write.parquet('zones')"
   ]
  },
  {
   "cell_type": "code",
   "execution_count": 23,
   "id": "664fdbc9",
   "metadata": {},
   "outputs": [
    {
     "name": "stdout",
     "output_type": "stream",
     "text": [
      "_SUCCESS  part-00000-88e3c429-a3e4-4051-ada3-cd98fbc705e7-c000.snappy.parquet\r\n"
     ]
    }
   ],
   "source": [
    "!ls -h zones"
   ]
  },
  {
   "cell_type": "code",
   "execution_count": 27,
   "id": "86552f6b",
   "metadata": {},
   "outputs": [
    {
     "name": "stdout",
     "output_type": "stream",
     "text": [
      "PAR1\u0015\u0000\u0015�\u001b\u0015�\u0010\u0015���\u000f\u001c",
      "\u0015�\u0004\u0015\u0000\u0015\u0006\u0015\b\u0000\u0000�\r",
      ",\u0003\u0000\u0000\u0000�\u0004\u0001\u0001\u0000\u0000\u00001\u0001\u0005\u00002\u0001\u0005\u00003\u0001\u0005\u00004\u0001\u0005\u00005\u0001\u0005\u00006\u0001\u0005\u00007\u0001\u0005\u00008\u0001\u0005\u00049\u0002\u0001-\u00000\u0005\u0006\u00001\u0005\u0006\u00002\u0005\u0006\u00003\u0005\u0006\u00004\u0005\u0006\u00005\u0005\u0006\u00006\u0005\u0006\u00007\u0005\u0006\u00008\u0005\u0006\u0005<\u00002\u0005<\u00002\u0005<\u00002\u0005<\u00002\u0005<\u00002\u0005<\u00002\u0005<\u00002\u0005<\u00002\u0005<\u00002\u0005<\u00002\u0005<\u00003\u0005<\u00003\u0005<\u00003\u0005<\u00003\u0005<\u00003\u0005<\u00003\u0005<\u00003\u0005<\u00003\u0005<\u00003\u0005<\u00003\u0005<\u00004\u0005<\u00004\u0005<\u00004\u0005<\u000443\u0001�\u00004\u0005<\u00004\u0005<\u000446\u0005\u0012\u0005<\u00004\u0005<\u00004\u0005<\u00005\u0005<\u00005\u0005<\u00005\u0005<\u00005\u0005<\u00005\u0005<\u00005\u0005<\u00005\u0005<\u00005\u0005<\u00005\u0005<\u00005\u0005<\u00006\u0005<\u00006\u0005<\u00006\u0005<\u00006\u0005<\u00006\u0005<\u00006\u0005<\u00006\u0005<\u00006\u0005<\u00006\u0005<\u00006\u0005<\u00007\u0005<\u00007\u0005<\u00007\u0005<\u00007\u0005<\u00007\u0005<\u00007\u0005<\u00007\u0005<\u00007\u0005<\u00007\u0005<\u00007\u0005<\u00008\u0005<\u00008\u0005<\u000482\u0001�\u00008\u0005<\u00008\u0005<\u00008\u0005<\u00008\u0005<\u00008\u0005<\u00008\u0005<\u00008\u0005<\u00009\u0005<\u00009\u0005<\u00009\u0005<\u00009\u0005<\u00009\u0005<\u00009\u0005<\u00009\u0005<\u00009\u0005<\u00009\u0005<\u000499AP\b100\t\u0007\u00001\t\u0007\u00002\t\u0007\u00003\t\u0007\u00004\t\u0007\u00005\t\u0007\u00006\t\u0007\u00007\t\u0007\u00008\t\u0007\tF\u00001\tF\u00001\tF\u00001\tF\u00001\tF\u00001\tF\u00001\tF\u00001\tF\u00001\tF\u00001\tF\u00001\tF\u00002\tF\u00002\tF\u00002\tF\u00002\tF\u000424\u0005p\u00002\tF\u00002\tF\u00002\tF\u00002\tF\u00002\tF\u00003\tF\u00003\tF\u00003\tF\u00003\tF\u00003\tF\u00003\tF\u00003\tF\u00003\tF\u00003\tF\u00003\tF\u00004\tF\u00004\tF\u00004\tF\u00004\tF\u00004\tF\u00004\tF\u00004\tF\u00004\tF\u00004\tF\u00004\tF\u00005\tF\u00005\tF\u00005\tF\u00005\tF\u00005\tF\u00005\tF\u00005\tF\u000457\u0005�\u00005\tF\u00005\tF\u00006\tF\u00006\tF\u00006\tF\u00006\tF\u00006\tF\u00006\tF\u00006\tF\u00006\tF\u00006\tF\u00006\tF\u00007\tF\u00007\tF\u00007\tF\u00007\tF\u00007\tF\u00007\tF\u00007\tF\u00007\tF\u00007\tF\u00007\tF\u00008\tF\u00008\tF\u00008\tF\u00008\tF\u00008\tF\u00008\tF\u00008\tF\u00008\tF\u00008\tF\u00008\tF\u00009\tF\u00009\tF\u00009\tF\u00009\tF\u00009\tF\u00009\tF\u00009\tF\u00009\tF\u00009\tFI�\u00002I�\u00002I�\u00002I�\u00002I�\u00002I�\u00002I�\u00002I�\u00002I�\u00002I�\u00002I�\u00002I�\u00002I�\u00002I�\u00002I�\u00002I�\u00002I�\u00002I�\u00002I�\u00002I�\u00002I�\u00002I�\u00002I�\u00002I�\u00002I�\b224!�\u00002I�\u00002I�\u00002I�\u00002I�\u00002I�\u00002I�\u00002I�\u00002I�\u00002I�\u00002I�\u00002I�\u00002I�\u00002I�\u00002I�\u00002I�\u00002I�\u00002I�\u00002I�\u00002I�\u00002I�\u00002I�\u00002I�\u00002I�\u00002I�\u00002I�\u00002I�\u00002I�\u00002I�\u00002I�\u000425\t�I�\u00002I�\u00002I�\u00002I�\u00002I�\u00002I�\u00002I�\u00002I�\u00002I�$264\u0003\u0000\u0000\u0000265\u0015\u0004\u0015�\u0001\u0015�\u0001\u0015�ׂ�\f",
      "<\u0015\u000e\u0015\u0004\u0000\u0000O�\u0003\u0000\u0000\u0000EWR\u0006\u0000\u0000\u0000Queens\u0005\u0000\u0000\u0000Bronx\t\u0000\u0000\u0000Manhattan\r",
      "\u0000\u0000\u0000Staten Island\b\t'<oklyn\u0007\u0000\u0000\u0000Unknown\u0015\u0000\u0015�\u0001\u0015�\u0001\u0015���\r\n"
     ]
    }
   ],
   "source": [
    "!head -1 zones/part-00000-88e3c429-a3e4-4051-ada3-cd98fbc705e7-c000.snappy.parquet"
   ]
  }
 ],
 "metadata": {
  "kernelspec": {
   "display_name": "Python 3 (ipykernel)",
   "language": "python",
   "name": "python3"
  },
  "language_info": {
   "codemirror_mode": {
    "name": "ipython",
    "version": 3
   },
   "file_extension": ".py",
   "mimetype": "text/x-python",
   "name": "python",
   "nbconvert_exporter": "python",
   "pygments_lexer": "ipython3",
   "version": "3.9.13"
  }
 },
 "nbformat": 4,
 "nbformat_minor": 5
}
